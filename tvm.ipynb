{
 "cells": [
  {
   "cell_type": "code",
   "execution_count": 1,
   "id": "26fed4ea-7a1e-46b6-bbf8-27e4f2becef9",
   "metadata": {},
   "outputs": [],
   "source": [
    "import numpy as np"
   ]
  },
  {
   "cell_type": "markdown",
   "id": "557a5dca-50d6-4495-aa5b-e903666f195f",
   "metadata": {},
   "source": [
    "4. Today, you sold 1 share of Mega stock.  The percentage return over the past quarter (from 3 months ago to today) for these shares was 10.42 percent.  You purchased the shares 3 months ago at a price of 30.53 per share.  You just received 1.87 in dividends.  What was the price of the stock when you sold it?\n",
    "\n",
    "Answer: $31.84"
   ]
  },
  {
   "cell_type": "code",
   "execution_count": 2,
   "id": "ca4b2f79-3d22-41a0-90da-dce4bd564633",
   "metadata": {},
   "outputs": [
    {
     "name": "stdout",
     "output_type": "stream",
     "text": [
      "31.841226000000002\n"
     ]
    }
   ],
   "source": [
    "# s0 = (s1 + d1)/(1 + r)^t\n",
    "# s0*(1 + r)^t = s1 + d1\n",
    "# s0*(1 + r)^t - d1 = s1\n",
    "\n",
    "answer = 30.53*pow(1 + 0.1042, 1) - 1.87\n",
    "print(answer)"
   ]
  },
  {
   "cell_type": "markdown",
   "id": "ce07c3f3-87e6-46b1-b938-64a76a965dab",
   "metadata": {},
   "source": [
    "10. Electric Blue stock is expected to pay a dividend of 3.61 in 1 year and a dividend of 4.03 in 2 years.  The stock is expected to be priced at 40.81 in 1 year and at 41.78 in 2 years.  What is the current price of Electric Blue stock?  The stock’s dividend is paid annually and the next dividend is expected in 1 year.\n",
    "\n",
    "Answer: $39.57"
   ]
  },
  {
   "cell_type": "code",
   "execution_count": 4,
   "id": "ac90097b-d911-46ca-8a5b-fa970994e47c",
   "metadata": {},
   "outputs": [
    {
     "name": "stdout",
     "output_type": "stream",
     "text": [
      "39.571713599650735\n"
     ]
    }
   ],
   "source": [
    "# s0 = (s1 + d1)/(1 + r)^t\n",
    "# (1 + r)^t = (s1 + d1)/s0\n",
    "# tLN(1 + r) = LN((s1 + d1)/s0)\n",
    "# LN(1 + r) = LN(U)/t\n",
    "# 1 + r = e^(LN(U)/t)\n",
    "# r = e^(LN(U)/t) - 1\n",
    "\n",
    "U = (41.78 + 4.03)/40.81\n",
    "r = np.exp(np.log(U)/1) - 1\n",
    "\n",
    "S0 = (40.81 + 3.61)/pow(1 + r, 1)\n",
    "\n",
    "print(S0)\n"
   ]
  },
  {
   "cell_type": "markdown",
   "id": "84da37e0-1122-4e8b-a78d-010df03604cc",
   "metadata": {},
   "source": [
    "14. Aldon owns 1 share of stock A and 1 share of stock B.  In 1 year from today, the total value of his holdings is expected to be 118.  Stock A is currently priced at 45.87, has an expected return of 10.90 percent, and is expected to pay a dividend of 2.71 in 1 year from today.  Stock B has an expected return of 15.32 percent and is expected to pay a dividend of 8.37 in 1 year from today.  What is the price of stock B today?\n",
    "\n",
    "Answer: $67.82"
   ]
  },
  {
   "cell_type": "code",
   "execution_count": 7,
   "id": "053664de-7d1b-4040-8ab6-76002662eb17",
   "metadata": {},
   "outputs": [
    {
     "name": "stdout",
     "output_type": "stream",
     "text": [
      "67.8201266042317\n"
     ]
    }
   ],
   "source": [
    "future_price = 45.87*pow(1 + 0.1090, 1) - 2.71\n",
    "\n",
    "price = 118 - future_price\n",
    "\n",
    "current_price = (price + 8.37)/pow(1 + 0.1532, 1)\n",
    "print(current_price)"
   ]
  },
  {
   "cell_type": "markdown",
   "id": "84849282-5975-40f8-b01a-e6a0605563d5",
   "metadata": {},
   "source": [
    "21. Magner stock pays quarterly dividends and has an expected annual return of 13.56 percent.  The stock is expected to have a price of 45.62 in 3 months from today and is expected to have a price of 45.97 in 6 months from today.  What is the current price of Magner stock if the firm is expected to pay quarterly dividends forever and the quarterly dividend in 3 months from today is expected to be 0.95?\n",
    "\n",
    "Answer: $45.04"
   ]
  },
  {
   "cell_type": "code",
   "execution_count": 9,
   "id": "ec8bb202-7793-417c-9181-323a97c8877c",
   "metadata": {},
   "outputs": [
    {
     "name": "stdout",
     "output_type": "stream",
     "text": [
      "45.04304091304768\n"
     ]
    }
   ],
   "source": [
    "annual = 0.1356\n",
    "quarterly = annual/4\n",
    "pv = (45.62 + 0.95)/pow(1 + quarterly, 1)\n",
    "print(pv)"
   ]
  },
  {
   "cell_type": "markdown",
   "id": "54d78a4f-d9a4-4ee3-a878-c38008e4ee35",
   "metadata": {},
   "source": [
    "36. What is the price of a stock expected to be in 6 years if the stock is expected to pay a dividend every year forever, the expected return for the stock is 6.42 percent per year, the next dividend is expected in 1 year, the next dividend is expected to be 1.24, and all subsequent dividends are expected to grow by 2.43 percent per year?\n",
    "\n",
    "Answer: $35.84"
   ]
  },
  {
   "cell_type": "code",
   "execution_count": 13,
   "id": "1689146b-67b6-43d6-8967-78b9f42af4ab",
   "metadata": {},
   "outputs": [
    {
     "name": "stdout",
     "output_type": "stream",
     "text": [
      "35.89317081719708\n"
     ]
    }
   ],
   "source": [
    "dividend = 1.24*pow(1 + 0.0243, 6)\n",
    "cdiv = dividend/(0.0642 - 0.0243)\n",
    "print(cdiv)"
   ]
  },
  {
   "cell_type": "markdown",
   "id": "68039f2a-b95d-49ea-a089-a953d4d999f7",
   "metadata": {},
   "source": [
    "38. Natural Blonde stock is currently priced at 78.52 per share.  The stock is expected to pay annual dividends that are expected to grow by 5.10 percent per year forever starting after the next dividend is paid in 1 year.  The expected return on the stock is 17.50 percent per year.  What is the dividend expected to be in 4 years?\n",
    "\n",
    "Answer: $11.31"
   ]
  },
  {
   "cell_type": "code",
   "execution_count": 16,
   "id": "2f4521e3-bb94-4757-953b-3ea42213780c",
   "metadata": {},
   "outputs": [
    {
     "name": "stdout",
     "output_type": "stream",
     "text": [
      "11.303426747248478\n"
     ]
    }
   ],
   "source": [
    "# pv = pmt/(r - g)\n",
    "# pv(r - g) = pmt\n",
    "dividend = 78.52*(0.1750 - 0.0510)\n",
    "four_years = dividend*pow(1 + 0.0510, 3)\n",
    "print(four_years)"
   ]
  },
  {
   "cell_type": "markdown",
   "id": "b80bda73-070e-4318-b8d4-b9cef131fe44",
   "metadata": {},
   "source": [
    "43. Sandy has one share of stock and one bond.  The total value of the two securities is 1,000.  The bond has a YTM of 8.40 percent, a coupon rate of 7.90 percent, and a face value of 1,000.  The bond matures in 12 years and pays annual coupons with the next one expected in 1 year.  The stock is expected to pay an annual dividend every year forever, the next dividend is expected to be 2.17 in 1 year, all subsequent dividends are expected to grow at the same annual growth rate, and the expected return for the stock is 10.83 percent.  What is the annual growth rate of the stock’s dividend expected to be?\n",
    "\n",
    "Answer: 4.95%"
   ]
  },
  {
   "cell_type": "code",
   "execution_count": 24,
   "id": "4d1f969c-5069-4fc2-bd67-9f0b9e57921e",
   "metadata": {},
   "outputs": [
    {
     "name": "stdout",
     "output_type": "stream",
     "text": [
      "0.04951119731621442\n"
     ]
    }
   ],
   "source": [
    "bond = (1000*0.0790/0.0840)*(1 - pow(1 + 0.0840, -12)) + 1000/pow(1 + 0.0840, 12)\n",
    "value = 1000 - bond\n",
    "\n",
    "growth_rate = 0.1083 - 2.17/value\n",
    "print(growth_rate)"
   ]
  },
  {
   "cell_type": "code",
   "execution_count": null,
   "id": "adea48e7-a594-46db-b407-e5e1d87c9e3b",
   "metadata": {},
   "outputs": [],
   "source": []
  }
 ],
 "metadata": {
  "kernelspec": {
   "display_name": "Python 3 (ipykernel)",
   "language": "python",
   "name": "python3"
  },
  "language_info": {
   "codemirror_mode": {
    "name": "ipython",
    "version": 3
   },
   "file_extension": ".py",
   "mimetype": "text/x-python",
   "name": "python",
   "nbconvert_exporter": "python",
   "pygments_lexer": "ipython3",
   "version": "3.11.9"
  }
 },
 "nbformat": 4,
 "nbformat_minor": 5
}
